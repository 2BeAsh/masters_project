{
 "cells": [
  {
   "cell_type": "code",
   "execution_count": 2,
   "metadata": {},
   "outputs": [],
   "source": [
    "import numpy as np"
   ]
  },
  {
   "cell_type": "code",
   "execution_count": 8,
   "metadata": {},
   "outputs": [
    {
     "name": "stdout",
     "output_type": "stream",
     "text": [
      "[ True False  True False  True]\n",
      "[1 0 2 3 7]\n"
     ]
    },
    {
     "data": {
      "text/plain": [
       "array([0, 2, 4], dtype=int64)"
      ]
     },
     "execution_count": 8,
     "metadata": {},
     "output_type": "execute_result"
    }
   ],
   "source": [
    "N = 5\n",
    "unemployed = 3\n",
    "\n",
    "want_to_hire = np.array([True, False, True, False, True])\n",
    "salary = np.array([1, 0, 2, 3, 7])\n",
    "\n",
    "print(want_to_hire)\n",
    "print(salary)\n",
    "\n",
    "order_idx = np.argsort(salary)\n",
    "\n",
    "able_to_be_hired = np.minimum(unemployed, sum(want_to_hire))\n",
    "\n",
    "want_to_hire_ordered = want_to_hire[order_idx]\n",
    "companies_that_hire = order_idx[want_to_hire_ordered][-able_to_be_hired:]\n",
    "\n",
    "companies_that_hire\n"
   ]
  }
 ],
 "metadata": {
  "kernelspec": {
   "display_name": "Python 3",
   "language": "python",
   "name": "python3"
  },
  "language_info": {
   "codemirror_mode": {
    "name": "ipython",
    "version": 3
   },
   "file_extension": ".py",
   "mimetype": "text/x-python",
   "name": "python",
   "nbconvert_exporter": "python",
   "pygments_lexer": "ipython3",
   "version": "3.11.9"
  }
 },
 "nbformat": 4,
 "nbformat_minor": 2
}
