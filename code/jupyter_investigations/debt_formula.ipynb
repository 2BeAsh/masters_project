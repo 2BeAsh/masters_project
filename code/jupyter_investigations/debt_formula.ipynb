{
 "cells": [
  {
   "cell_type": "markdown",
   "metadata": {},
   "source": [
    "## Expected income"
   ]
  },
  {
   "cell_type": "code",
   "execution_count": 17,
   "metadata": {},
   "outputs": [
    {
     "name": "stdout",
     "output_type": "stream",
     "text": [
      "1.0\n"
     ]
    }
   ],
   "source": [
    "import numpy as np\n",
    "from scipy.stats import binom\n",
    "\n",
    "N = 100\n",
    "p = 1 / N\n",
    "\n",
    "# Calculate binomial distribution\n",
    "binom_dist = binom(N, p)\n",
    "\n",
    "# Calculate the probability of getting 0, 1, 2, 3 ... N counts\n",
    "binom_all_values = binom_dist.pmf(np.arange(N))\n",
    "sum_binom_times_i = np.sum(np.arange(N) * binom_all_values)\n",
    "print(sum_binom_times_i)"
   ]
  }
 ],
 "metadata": {
  "kernelspec": {
   "display_name": "Python 3",
   "language": "python",
   "name": "python3"
  },
  "language_info": {
   "codemirror_mode": {
    "name": "ipython",
    "version": 3
   },
   "file_extension": ".py",
   "mimetype": "text/x-python",
   "name": "python",
   "nbconvert_exporter": "python",
   "pygments_lexer": "ipython3",
   "version": "3.11.9"
  }
 },
 "nbformat": 4,
 "nbformat_minor": 2
}
